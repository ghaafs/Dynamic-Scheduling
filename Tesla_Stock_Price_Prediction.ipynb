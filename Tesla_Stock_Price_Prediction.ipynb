{
  "metadata": {
    "kernelspec": {
      "language": "python",
      "display_name": "Python 3",
      "name": "python3"
    },
    "language_info": {
      "name": "python",
      "version": "3.10.13",
      "mimetype": "text/x-python",
      "codemirror_mode": {
        "name": "ipython",
        "version": 3
      },
      "pygments_lexer": "ipython3",
      "nbconvert_exporter": "python",
      "file_extension": ".py"
    },
    "kaggle": {
      "accelerator": "none",
      "dataSources": [
        {
          "sourceId": 7821310,
          "sourceType": "datasetVersion",
          "datasetId": 4582525
        }
      ],
      "dockerImageVersionId": 30664,
      "isInternetEnabled": true,
      "language": "python",
      "sourceType": "notebook",
      "isGpuEnabled": false
    },
    "colab": {
      "name": "Tesla Stock Price - Exploratory Data Analysis",
      "provenance": [],
      "include_colab_link": true
    }
  },
  "nbformat_minor": 0,
  "nbformat": 4,
  "cells": [
    {
      "cell_type": "markdown",
      "metadata": {
        "id": "view-in-github",
        "colab_type": "text"
      },
      "source": [
        "<a href=\"https://colab.research.google.com/github/ghaafs/Dynamic-Scheduling/blob/main/Tesla_Stock_Price_Prediction.ipynb\" target=\"_parent\"><img src=\"https://colab.research.google.com/assets/colab-badge.svg\" alt=\"Open In Colab\"/></a>"
      ]
    },
    {
      "source": [
        "\n",
        "# IMPORTANT: RUN THIS CELL IN ORDER TO IMPORT YOUR KAGGLE DATA SOURCES\n",
        "# TO THE CORRECT LOCATION (/kaggle/input) IN YOUR NOTEBOOK,\n",
        "# THEN FEEL FREE TO DELETE THIS CELL.\n",
        "# NOTE: THIS NOTEBOOK ENVIRONMENT DIFFERS FROM KAGGLE'S PYTHON\n",
        "# ENVIRONMENT SO THERE MAY BE MISSING LIBRARIES USED BY YOUR\n",
        "# NOTEBOOK.\n",
        "\n",
        "import os\n",
        "import sys\n",
        "from tempfile import NamedTemporaryFile\n",
        "from urllib.request import urlopen\n",
        "from urllib.parse import unquote, urlparse\n",
        "from urllib.error import HTTPError\n",
        "from zipfile import ZipFile\n",
        "import tarfile\n",
        "import shutil\n",
        "\n",
        "CHUNK_SIZE = 40960\n",
        "DATA_SOURCE_MAPPING = 'tesla-stock-price-with-indicators-10-years:https%3A%2F%2Fstorage.googleapis.com%2Fkaggle-data-sets%2F4582525%2F7821310%2Fbundle%2Farchive.zip%3FX-Goog-Algorithm%3DGOOG4-RSA-SHA256%26X-Goog-Credential%3Dgcp-kaggle-com%2540kaggle-161607.iam.gserviceaccount.com%252F20240316%252Fauto%252Fstorage%252Fgoog4_request%26X-Goog-Date%3D20240316T141949Z%26X-Goog-Expires%3D259200%26X-Goog-SignedHeaders%3Dhost%26X-Goog-Signature%3D61ace5e26e8af5f852bb23e562a946c22b26f990ce466947b99550202af53ed777f989ccfc3cb4e4177f8123cbf4490c81c174581d86ea7b555330318a72c4c225193654c8b074fe185ff42909dab81861bc392329a612f05fb29be8b55bd78d7845e6a2607869dd56e108e83d1ce1b28fc527c2090671325f1fd76aeeef16d8142e9c065a4ae4355b71682b9eaac7ab4db136cafd41921a475bb428fa936a21414190f9b17b1474fc13dc6c56347046453840cc5f5f6b9ef04bfe54072db3395daf208de8bee8ff446d063fb8cb1b3c7294d119273be6b3882b2472f882b45f6510a506fa1f9bd0a94df45a1e807a52383fc2ee3926ce30968e7bd4995839e6'\n",
        "\n",
        "KAGGLE_INPUT_PATH='/kaggle/input'\n",
        "KAGGLE_WORKING_PATH='/kaggle/working'\n",
        "KAGGLE_SYMLINK='kaggle'\n",
        "\n",
        "!umount /kaggle/input/ 2> /dev/null\n",
        "shutil.rmtree('/kaggle/input', ignore_errors=True)\n",
        "os.makedirs(KAGGLE_INPUT_PATH, 0o777, exist_ok=True)\n",
        "os.makedirs(KAGGLE_WORKING_PATH, 0o777, exist_ok=True)\n",
        "\n",
        "try:\n",
        "  os.symlink(KAGGLE_INPUT_PATH, os.path.join(\"..\", 'input'), target_is_directory=True)\n",
        "except FileExistsError:\n",
        "  pass\n",
        "try:\n",
        "  os.symlink(KAGGLE_WORKING_PATH, os.path.join(\"..\", 'working'), target_is_directory=True)\n",
        "except FileExistsError:\n",
        "  pass\n",
        "\n",
        "for data_source_mapping in DATA_SOURCE_MAPPING.split(','):\n",
        "    directory, download_url_encoded = data_source_mapping.split(':')\n",
        "    download_url = unquote(download_url_encoded)\n",
        "    filename = urlparse(download_url).path\n",
        "    destination_path = os.path.join(KAGGLE_INPUT_PATH, directory)\n",
        "    try:\n",
        "        with urlopen(download_url) as fileres, NamedTemporaryFile() as tfile:\n",
        "            total_length = fileres.headers['content-length']\n",
        "            print(f'Downloading {directory}, {total_length} bytes compressed')\n",
        "            dl = 0\n",
        "            data = fileres.read(CHUNK_SIZE)\n",
        "            while len(data) > 0:\n",
        "                dl += len(data)\n",
        "                tfile.write(data)\n",
        "                done = int(50 * dl / int(total_length))\n",
        "                sys.stdout.write(f\"\\r[{'=' * done}{' ' * (50-done)}] {dl} bytes downloaded\")\n",
        "                sys.stdout.flush()\n",
        "                data = fileres.read(CHUNK_SIZE)\n",
        "            if filename.endswith('.zip'):\n",
        "              with ZipFile(tfile) as zfile:\n",
        "                zfile.extractall(destination_path)\n",
        "            else:\n",
        "              with tarfile.open(tfile.name) as tarfile:\n",
        "                tarfile.extractall(destination_path)\n",
        "            print(f'\\nDownloaded and uncompressed: {directory}')\n",
        "    except HTTPError as e:\n",
        "        print(f'Failed to load (likely expired) {download_url} to path {destination_path}')\n",
        "        continue\n",
        "    except OSError as e:\n",
        "        print(f'Failed to load {download_url} to path {destination_path}')\n",
        "        continue\n",
        "\n",
        "print('Data source import complete.')\n"
      ],
      "metadata": {
        "id": "_SFkAByZowwk"
      },
      "cell_type": "code",
      "outputs": [],
      "execution_count": null
    },
    {
      "cell_type": "code",
      "source": [
        "import numpy as np\n",
        "import pandas as pd\n",
        "import matplotlib.pyplot as plt\n",
        "import seaborn as sns\n",
        "import os\n",
        "import matplotlib.colors\n",
        "import seaborn as sns\n",
        "import plotly.express as px\n",
        "import plotly.graph_objects as go\n",
        "from plotly.subplots import make_subplots\n",
        "from plotly.offline import init_notebook_mode\n",
        "from datetime import datetime, timedelta\n",
        "sns.set_style('whitegrid')\n",
        "plt.style.use(\"fivethirtyeight\")\n",
        "%matplotlib inline"
      ],
      "metadata": {
        "_uuid": "8f2839f25d086af736a60e9eeb907d3b93b6e0e5",
        "_cell_guid": "b1076dfc-b9ad-4769-8c92-a6c4dae69d19",
        "execution": {
          "iopub.status.busy": "2024-03-12T18:42:43.520087Z",
          "iopub.execute_input": "2024-03-12T18:42:43.520724Z",
          "iopub.status.idle": "2024-03-12T18:42:48.159855Z",
          "shell.execute_reply.started": "2024-03-12T18:42:43.520659Z",
          "shell.execute_reply": "2024-03-12T18:42:48.157844Z"
        },
        "trusted": true,
        "id": "wvjSOUwXowxj"
      },
      "execution_count": null,
      "outputs": []
    },
    {
      "cell_type": "markdown",
      "source": [
        "# Read Source Data"
      ],
      "metadata": {
        "id": "l4KwJNzcowxk"
      }
    },
    {
      "cell_type": "code",
      "source": [
        "df=pd.read_csv(\"/kaggle/input/tesla-stock-price-with-indicators-10-years/tsla_2014_2023.csv\")\n",
        "df['date']=pd.to_datetime(df['date'])\n",
        "df['year'] = df['date'].dt.year\n",
        "df=df.set_index('date')\n",
        "df.head()"
      ],
      "metadata": {
        "execution": {
          "iopub.status.busy": "2024-03-12T18:42:48.162527Z",
          "iopub.execute_input": "2024-03-12T18:42:48.164399Z",
          "iopub.status.idle": "2024-03-12T18:42:48.299103Z",
          "shell.execute_reply.started": "2024-03-12T18:42:48.164172Z",
          "shell.execute_reply": "2024-03-12T18:42:48.297592Z"
        },
        "trusted": true,
        "id": "UXWbfYIBowxn"
      },
      "execution_count": null,
      "outputs": []
    },
    {
      "cell_type": "markdown",
      "source": [
        "### Plot Close Price"
      ],
      "metadata": {
        "id": "eEjVHJQOowxu"
      }
    },
    {
      "cell_type": "code",
      "source": [
        "plt.figure(figsize=(15, 6))\n",
        "plt.ylabel('Close Price')\n",
        "plt.xlabel('Date')\n",
        "plt.title(f\"TSLA: Close Price - 2014 to 2023\")\n",
        "df['close'].plot()\n",
        "plt.tight_layout()"
      ],
      "metadata": {
        "execution": {
          "iopub.status.busy": "2024-03-12T18:42:48.300944Z",
          "iopub.execute_input": "2024-03-12T18:42:48.303101Z",
          "iopub.status.idle": "2024-03-12T18:42:49.610193Z",
          "shell.execute_reply.started": "2024-03-12T18:42:48.303038Z",
          "shell.execute_reply": "2024-03-12T18:42:49.608105Z"
        },
        "trusted": true,
        "id": "XC_0_E6Oowx9"
      },
      "execution_count": null,
      "outputs": []
    },
    {
      "cell_type": "markdown",
      "source": [
        "## Plot Volume"
      ],
      "metadata": {
        "id": "jZzkyFfHowx_"
      }
    },
    {
      "cell_type": "code",
      "source": [
        "plt.figure(figsize=(15, 6))\n",
        "plt.ylabel('Volume')\n",
        "plt.xlabel('Date')\n",
        "plt.title(f\"TSLA: Volume - 2014 to 2023\")\n",
        "df['volume'].plot()\n",
        "plt.tight_layout()"
      ],
      "metadata": {
        "execution": {
          "iopub.status.busy": "2024-03-12T18:42:49.613551Z",
          "iopub.execute_input": "2024-03-12T18:42:49.61402Z",
          "iopub.status.idle": "2024-03-12T18:42:50.720012Z",
          "shell.execute_reply.started": "2024-03-12T18:42:49.613985Z",
          "shell.execute_reply": "2024-03-12T18:42:50.717986Z"
        },
        "trusted": true,
        "id": "NXHbFjtYowyB"
      },
      "execution_count": null,
      "outputs": []
    },
    {
      "cell_type": "markdown",
      "source": [
        "## Plot RSI"
      ],
      "metadata": {
        "id": "jPeofG_qowyC"
      }
    },
    {
      "cell_type": "code",
      "source": [
        "plt.figure(figsize=(15, 6))\n",
        "plt.ylabel('Volume')\n",
        "plt.xlabel('Date')\n",
        "plt.title(f\"TSLA: RSI - 2014 to 2023\")\n",
        "df['rsi_7'].plot()\n",
        "df['rsi_14'].plot()\n",
        "plt.tight_layout()"
      ],
      "metadata": {
        "execution": {
          "iopub.status.busy": "2024-03-12T18:42:50.721859Z",
          "iopub.execute_input": "2024-03-12T18:42:50.722511Z",
          "iopub.status.idle": "2024-03-12T18:42:51.867669Z",
          "shell.execute_reply.started": "2024-03-12T18:42:50.722452Z",
          "shell.execute_reply": "2024-03-12T18:42:51.866087Z"
        },
        "trusted": true,
        "id": "GyCr1xRyowyC"
      },
      "execution_count": null,
      "outputs": []
    },
    {
      "cell_type": "markdown",
      "source": [
        "## Plot SMA and EMA"
      ],
      "metadata": {
        "id": "W5mKWaPVowyn"
      }
    },
    {
      "cell_type": "code",
      "source": [
        "fig, axes = plt.subplots(nrows=1, ncols=1)\n",
        "fig.set_figheight(6)\n",
        "fig.set_figwidth(15)\n",
        "df[['sma_50','sma_100','ema_50','ema_100']].plot(ax=axes)\n",
        "axes.set_title('TSLA: SMA/EMA - 2014 to 2023')\n",
        "plt.show()"
      ],
      "metadata": {
        "execution": {
          "iopub.status.busy": "2024-03-12T18:42:51.86974Z",
          "iopub.execute_input": "2024-03-12T18:42:51.871306Z",
          "iopub.status.idle": "2024-03-12T18:42:52.809387Z",
          "shell.execute_reply.started": "2024-03-12T18:42:51.871235Z",
          "shell.execute_reply": "2024-03-12T18:42:52.808214Z"
        },
        "trusted": true,
        "id": "vrDWuBTRowyo"
      },
      "execution_count": null,
      "outputs": []
    },
    {
      "cell_type": "markdown",
      "source": [
        "## Average Returns"
      ],
      "metadata": {
        "id": "ragDJra9owyo"
      }
    },
    {
      "cell_type": "code",
      "source": [
        "df=df.reset_index()\n",
        "df['daily_return']=df['next_day_close']-df['close']\n",
        "df.head()"
      ],
      "metadata": {
        "execution": {
          "iopub.status.busy": "2024-03-12T18:42:52.811369Z",
          "iopub.execute_input": "2024-03-12T18:42:52.812245Z",
          "iopub.status.idle": "2024-03-12T18:42:52.842755Z",
          "shell.execute_reply.started": "2024-03-12T18:42:52.812202Z",
          "shell.execute_reply": "2024-03-12T18:42:52.841729Z"
        },
        "trusted": true,
        "id": "S9tKXOauowyp"
      },
      "execution_count": null,
      "outputs": []
    },
    {
      "cell_type": "markdown",
      "source": [
        "# Plot Closing Price And Shares Traded"
      ],
      "metadata": {
        "id": "Wl92WJ6cowyp"
      }
    },
    {
      "cell_type": "code",
      "source": [
        "init_notebook_mode(connected=True)\n",
        "temp = dict(layout=go.Layout(font=dict(family=\"Franklin Gothic\", size=12), width=800))\n",
        "colors=px.colors.qualitative.Plotly\n",
        "#\n",
        "df_date=df.date.unique()\n",
        "close_avg=df.groupby('date')['close'].mean().rename('Closing Price')\n",
        "vol_avg=df.groupby('date')['volume'].mean().rename('Volume')\n",
        "\n",
        "fig = make_subplots(rows=2, cols=1,\n",
        "                    shared_xaxes=True)\n",
        "for i, j in enumerate([close_avg, vol_avg]):\n",
        "    fig.add_trace(go.Scatter(x=df_date, y=j, mode='lines',\n",
        "                             name=j.name, marker_color=colors[i]), row=i+1, col=1)\n",
        "fig.update_xaxes(rangeslider_visible=False,\n",
        "                 rangeselector=dict(\n",
        "                     buttons=list([\n",
        "                         dict(count=6, label=\"6m\", step=\"month\", stepmode=\"backward\"),\n",
        "                         dict(count=1, label=\"1y\", step=\"year\", stepmode=\"backward\"),\n",
        "                         dict(count=2, label=\"2y\", step=\"year\", stepmode=\"backward\"),\n",
        "                         dict(step=\"all\")])),\n",
        "                 row=1,col=1)\n",
        "fig.update_layout(template=temp,title='Closing Price, and Shares Traded',\n",
        "                  hovermode='x unified', height=800,\n",
        "                  yaxis1_title='Closing Price', yaxis2_title='Shares Traded',\n",
        "                  showlegend=False)\n",
        "fig.show()"
      ],
      "metadata": {
        "execution": {
          "iopub.status.busy": "2024-03-12T18:43:40.192098Z",
          "iopub.execute_input": "2024-03-12T18:43:40.192522Z",
          "iopub.status.idle": "2024-03-12T18:43:40.263406Z",
          "shell.execute_reply.started": "2024-03-12T18:43:40.192493Z",
          "shell.execute_reply": "2024-03-12T18:43:40.262311Z"
        },
        "trusted": true,
        "id": "-zoyGhLDowyp"
      },
      "execution_count": null,
      "outputs": []
    },
    {
      "cell_type": "markdown",
      "source": [
        "# Tesla Stock Analysis Chart"
      ],
      "metadata": {
        "id": "uDcmUZWAowy1"
      }
    },
    {
      "cell_type": "code",
      "source": [
        "from itertools import cycle\n",
        "import plotly.graph_objects as go\n",
        "import plotly.express as px\n",
        "from plotly.subplots import make_subplots\n",
        "#\n",
        "names = cycle(['Stock Open Price','Stock Close Price','Stock High Price','Stock Low Price'])\n",
        "\n",
        "fig = px.line(df, x=df.date, y=[df['open'], df['close'],\n",
        "                                          df['high'], df['low']],\n",
        "             labels={'date': 'Date','value':'Stock value'})\n",
        "fig.update_layout(title_text='Stock analysis chart', font_size=15, font_color='black',legend_title_text='Stock Parameters')\n",
        "fig.for_each_trace(lambda t:  t.update(name = next(names)))\n",
        "fig.update_xaxes(showgrid=False)\n",
        "fig.update_yaxes(showgrid=False)\n",
        "\n",
        "fig.show()"
      ],
      "metadata": {
        "execution": {
          "iopub.status.busy": "2024-03-12T18:42:53.85078Z",
          "iopub.execute_input": "2024-03-12T18:42:53.851407Z",
          "iopub.status.idle": "2024-03-12T18:42:55.890086Z",
          "shell.execute_reply.started": "2024-03-12T18:42:53.851372Z",
          "shell.execute_reply": "2024-03-12T18:42:55.88893Z"
        },
        "trusted": true,
        "id": "rTqMu6r5owy2"
      },
      "execution_count": null,
      "outputs": []
    }
  ]
}